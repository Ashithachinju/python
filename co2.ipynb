{
  "nbformat": 4,
  "nbformat_minor": 0,
  "metadata": {
    "colab": {
      "name": "co2.ipynb",
      "provenance": [],
      "collapsed_sections": [],
      "authorship_tag": "ABX9TyMbOb/QUAzLLO6NiI7ZwRJD",
      "include_colab_link": true
    },
    "kernelspec": {
      "name": "python3",
      "display_name": "Python 3"
    },
    "language_info": {
      "name": "python"
    }
  },
  "cells": [
    {
      "cell_type": "markdown",
      "metadata": {
        "id": "view-in-github",
        "colab_type": "text"
      },
      "source": [
        "<a href=\"https://colab.research.google.com/github/Ashithachinju/python/blob/main/co2.ipynb\" target=\"_parent\"><img src=\"https://colab.research.google.com/assets/colab-badge.svg\" alt=\"Open In Colab\"/></a>"
      ]
    },
    {
      "cell_type": "code",
      "metadata": {
        "colab": {
          "base_uri": "https://localhost:8080/"
        },
        "id": "rWX3nUdAvQ5L",
        "outputId": "82a85518-62c2-4a6d-de2f-fec4aa76ddd6"
      },
      "source": [
        "#1_program to find the factorial of a number\n",
        "n=int(input(\"enter the number\"))\n",
        "fact=1\n",
        "for i in range(1,n+1):\n",
        "  fact=fact*i\n",
        "print(fact)"
      ],
      "execution_count": null,
      "outputs": [
        {
          "output_type": "stream",
          "text": [
            "enter the number5\n",
            "120\n"
          ],
          "name": "stdout"
        }
      ]
    },
    {
      "cell_type": "code",
      "metadata": {
        "colab": {
          "base_uri": "https://localhost:8080/"
        },
        "id": "LG6wfsvKw-c_",
        "outputId": "b82c949f-1675-4190-bc64-45e286a75e55"
      },
      "source": [
        "#2_generate Fibonacci series of n terms\n",
        "n=int(input(\"enter the limit:\"))\n",
        "f1 =0\n",
        "f2=1\n",
        "count=0\n",
        "while count<n:\n",
        "   print(f1)\n",
        "   fib=f1+f2\n",
        "   f1=f2\n",
        "   f2=fib\n",
        "   count+=1"
      ],
      "execution_count": null,
      "outputs": [
        {
          "output_type": "stream",
          "text": [
            "enter the limit:5\n",
            "0\n",
            "1\n",
            "1\n",
            "2\n",
            "3\n"
          ],
          "name": "stdout"
        }
      ]
    },
    {
      "cell_type": "code",
      "metadata": {
        "colab": {
          "base_uri": "https://localhost:8080/"
        },
        "id": "c0E3ePdhycko",
        "outputId": "0f337382-20c0-4ef5-c8b2-73d604252863"
      },
      "source": [
        "#3_find the sum of all items in alist\n",
        "l=[1,2,3,4]\n",
        "print(sum(l))"
      ],
      "execution_count": null,
      "outputs": [
        {
          "output_type": "stream",
          "text": [
            "10\n"
          ],
          "name": "stdout"
        }
      ]
    },
    {
      "cell_type": "code",
      "metadata": {
        "colab": {
          "base_uri": "https://localhost:8080/",
          "height": 0
        },
        "id": "Rqzp7GcXEobI",
        "outputId": "f888fe8e-61ff-4de9-9a7d-c82a40be1e30"
      },
      "source": [
        "#4 gnrt a list of 4 digits numbers in a given range with all their digits even and the number is a perfect square\n",
        "import math\n",
        "start=int(input(\"enter a starting limit 4 digit number:\"))\n",
        "end=int(input(\"enter a ending limit 4 digit number:\"))\n",
        "perfect=[]\n",
        "for i in range(start,end+1):\n",
        "  flag=0\n",
        "  num=i\n",
        "  while num>0:\n",
        "    digit=num%10\n",
        "    if digit not in [0,2,4,6,8]:\n",
        "      flag=1\n",
        "      break\n",
        "    num=int(num/10)\n",
        "  if flag==0 and int(math.sqrt(i)+0.5)**2==i:\n",
        "    perfect.append(i)\n",
        "print(\"the list of perfect square number are:\",perfect)"
      ],
      "execution_count": 17,
      "outputs": [
        {
          "output_type": "stream",
          "text": [
            "enter a starting limit 4 digit number:2145\n",
            "enter a ending limit 4 digit number:8947\n",
            "the list of perfect square number are: [4624, 6084, 6400, 8464]\n"
          ],
          "name": "stdout"
        }
      ]
    },
    {
      "cell_type": "code",
      "metadata": {
        "colab": {
          "base_uri": "https://localhost:8080/"
        },
        "id": "RCGcJdwUy6Lu",
        "outputId": "7d01ce25-539d-416e-fcf9-5e3e574c371f"
      },
      "source": [
        "#5\n",
        "n=int(input(\"enter the number of rows:\"))\n",
        "for i in range(1,n+1):\n",
        "  for j in range(1,i+1):\n",
        "    print(i*j,end=' ')\n",
        "  print()"
      ],
      "execution_count": null,
      "outputs": [
        {
          "output_type": "stream",
          "text": [
            "enter the number of rows:5\n",
            "1 \n",
            "2 4 \n",
            "3 6 9 \n",
            "4 8 12 16 \n",
            "5 10 15 20 25 \n"
          ],
          "name": "stdout"
        }
      ]
    },
    {
      "cell_type": "code",
      "metadata": {
        "colab": {
          "base_uri": "https://localhost:8080/"
        },
        "id": "LViReRDhzAgy",
        "outputId": "01583328-cd02-4eb5-f87b-0b2d9a10a861"
      },
      "source": [
        "#6_count the number of characters in a string\n",
        "string=input(\"enter a string:\")\n",
        "count=0\n",
        "for i in range(len(string)):\n",
        "  if(string[i]!=' '):\n",
        "    count=count+1\n",
        "print(\"the number of characters in the string is:\",count)"
      ],
      "execution_count": null,
      "outputs": [
        {
          "output_type": "stream",
          "text": [
            "enter a string:theam\n",
            "the number of characters in the string is: 5\n"
          ],
          "name": "stdout"
        }
      ]
    },
    {
      "cell_type": "code",
      "metadata": {
        "colab": {
          "base_uri": "https://localhost:8080/"
        },
        "id": "kMQnoXtkzId0",
        "outputId": "1674c41a-c804-40b6-cfe4-8d07578e9a4c"
      },
      "source": [
        "#7_add ing at the end of a given string. if it already ends with'ing',then add 'ly'\n",
        "s=input(\"enter a string:\")\n",
        "if(len(s)>2):\n",
        "  if(s[-3:]=='ing'):\n",
        "   s=s+'ly'\n",
        "else:\n",
        "  s=s+'ing'\n",
        "print(s)"
      ],
      "execution_count": null,
      "outputs": [
        {
          "output_type": "stream",
          "text": [
            "enter a string:thinking\n",
            "thinkingly\n"
          ],
          "name": "stdout"
        }
      ]
    },
    {
      "cell_type": "code",
      "metadata": {
        "colab": {
          "base_uri": "https://localhost:8080/"
        },
        "id": "S2kqYjqOKABU",
        "outputId": "6a0106bc-8718-4636-f4a6-501c5dcde0b4"
      },
      "source": [
        "#8 Accept a list of words and return length of largest word\n",
        "n=int(input(\"enter the no of words:\"))\n",
        "list=[]\n",
        "for i in range(n):\n",
        "  x=input(\"enter the word:\")\n",
        "  list.append(x)\n",
        "print(list)\n",
        "max=len(list[0])\n",
        "temp=list[0]\n",
        "for i in list:\n",
        "  if (len(i)>max):\n",
        "    max=len(i)\n",
        "    temp=i\n",
        "print(\"the word having biggest length is:\",temp,\"and its length is:\",max)"
      ],
      "execution_count": 22,
      "outputs": [
        {
          "output_type": "stream",
          "text": [
            "enter the no of words:3\n",
            "enter the word:my\n",
            "enter the word:name\n",
            "enter the word:is\n",
            "['my', 'name', 'is']\n",
            "the word having biggest length is: name and its length is: 4\n"
          ],
          "name": "stdout"
        }
      ]
    },
    {
      "cell_type": "code",
      "metadata": {
        "colab": {
          "base_uri": "https://localhost:8080/"
        },
        "id": "czLXuc-HzXVE",
        "outputId": "c8e64dc0-c530-43b0-b35b-608af2424a91"
      },
      "source": [
        "#9_construct the pattern\n",
        "n=int(input(\"enter the number of rows:\"))\n",
        "for i in range(1,n):\n",
        "   for j in range(i):\n",
        "    print(\"*\",end=' ')\n",
        "   print()\n",
        "for i in range(n,0,-1):\n",
        "   for j in range(i):\n",
        "    print(\"*\",end=' ')\n",
        "   print()"
      ],
      "execution_count": null,
      "outputs": [
        {
          "output_type": "stream",
          "text": [
            "enter the number of rows:5\n",
            "* \n",
            "* * \n",
            "* * * \n",
            "* * * * \n",
            "* * * * * \n",
            "* * * * \n",
            "* * * \n",
            "* * \n",
            "* \n"
          ],
          "name": "stdout"
        }
      ]
    },
    {
      "cell_type": "code",
      "metadata": {
        "colab": {
          "base_uri": "https://localhost:8080/"
        },
        "id": "SIMZIkaGzepR",
        "outputId": "70187006-9941-4b73-f7ad-78db362afedf"
      },
      "source": [
        "#10_generate all factors of a number\n",
        "n=int(input(\"enter the number:\"))\n",
        "print(\"the factors of\",n,\"are\")\n",
        "for i in range(1,n+1):\n",
        "     if n%i==0:\n",
        "      print(i)"
      ],
      "execution_count": null,
      "outputs": [
        {
          "output_type": "stream",
          "text": [
            "enter the number:54\n",
            "the factors of 54 are\n",
            "1\n",
            "2\n",
            "3\n",
            "6\n",
            "9\n",
            "18\n",
            "27\n",
            "54\n"
          ],
          "name": "stdout"
        }
      ]
    },
    {
      "cell_type": "code",
      "metadata": {
        "colab": {
          "base_uri": "https://localhost:8080/"
        },
        "id": "UgU0btXIzn57",
        "outputId": "60065e06-8e20-4c5c-836d-b57090b6fca9"
      },
      "source": [
        "#11_write lambda functions to find area of square,rectangle,triangle\n",
        "square=lambda a:a*a\n",
        "print(\"area of square is\",square(4))\n",
        "rect=lambda a,b:a*b\n",
        "print(\"area of rectangle is\",rect(3,4))\n",
        "tri=lambda b,h:0.5*b*h\n",
        "print(\"area of triangle is\",tri(4,6))"
      ],
      "execution_count": null,
      "outputs": [
        {
          "output_type": "stream",
          "text": [
            "area of square is 16\n",
            "area of rectangle is 12\n",
            "area of triangle is 12.0\n"
          ],
          "name": "stdout"
        }
      ]
    }
  ]
}