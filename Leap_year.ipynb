{
  "nbformat": 4,
  "nbformat_minor": 0,
  "metadata": {
    "colab": {
      "name": "Leap year.ipynb",
      "provenance": [],
      "authorship_tag": "ABX9TyNscLeuIrm1oDoOl1qdSBdB",
      "include_colab_link": true
    },
    "kernelspec": {
      "name": "python3",
      "display_name": "Python 3"
    },
    "language_info": {
      "name": "python"
    }
  },
  "cells": [
    {
      "cell_type": "markdown",
      "metadata": {
        "id": "view-in-github",
        "colab_type": "text"
      },
      "source": [
        "<a href=\"https://colab.research.google.com/github/Ashithachinju/python/blob/main/Leap_year.ipynb\" target=\"_parent\"><img src=\"https://colab.research.google.com/assets/colab-badge.svg\" alt=\"Open In Colab\"/></a>"
      ]
    },
    {
      "cell_type": "code",
      "metadata": {
        "colab": {
          "base_uri": "https://localhost:8080/"
        },
        "id": "DdajHgrO9TLL",
        "outputId": "cfc983b7-a715-468e-b933-78c6c5cb8259"
      },
      "source": [
        " #display future leap years from current year to final year entered by user\n",
        "count=0\n",
        "y1=int(input(\"enter the current year:\"))\n",
        "y2=int(input(\"enter the last year:\"))\n",
        "for i in range(y1,y2+1):\n",
        "    if(i%4==0 and i%100!=0 or i%400==0):\n",
        "     print(i,end=\"\")\n",
        "     count=count+1\n",
        "    i=i+1\n",
        "print(\"\\n no of leap year:\",count)"
      ],
      "execution_count": 1,
      "outputs": [
        {
          "output_type": "stream",
          "text": [
            "enter the current year:2021\n",
            "enter the last year:2040\n",
            "20242028203220362040\n",
            " no of leap year: 5\n"
          ],
          "name": "stdout"
        }
      ]
    },
    {
      "cell_type": "code",
      "metadata": {
        "id": "QvsDjMMt9eHP"
      },
      "source": [
        ""
      ],
      "execution_count": null,
      "outputs": []
    }
  ]
}