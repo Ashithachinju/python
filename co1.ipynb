{
  "nbformat": 4,
  "nbformat_minor": 0,
  "metadata": {
    "colab": {
      "name": "co1.ipynb",
      "provenance": [],
      "collapsed_sections": [],
      "authorship_tag": "ABX9TyMVSLaInIFbryUthYs7k3pu",
      "include_colab_link": true
    },
    "kernelspec": {
      "name": "python3",
      "display_name": "Python 3"
    },
    "language_info": {
      "name": "python"
    }
  },
  "cells": [
    {
      "cell_type": "markdown",
      "metadata": {
        "id": "view-in-github",
        "colab_type": "text"
      },
      "source": [
        "<a href=\"https://colab.research.google.com/github/Ashithachinju/python/blob/main/co1.ipynb\" target=\"_parent\"><img src=\"https://colab.research.google.com/assets/colab-badge.svg\" alt=\"Open In Colab\"/></a>"
      ]
    },
    {
      "cell_type": "code",
      "metadata": {
        "colab": {
          "base_uri": "https://localhost:8080/"
        },
        "id": "QDS9wL-RPS2K",
        "outputId": "fd8d5613-36ac-485a-f55f-e4c3524a4743"
      },
      "source": [
        "1.#leapyear\n",
        "count=0\n",
        "x=int(input(\"enter the current year:\"))\n",
        "y=int(input(\"enter the last year:\"))\n",
        "for i in range(x,y+1):\n",
        "    if(i%4==0 and i%100!=0 or i%400==0):\n",
        "        print(i,end=\" \")\n",
        "        count=count+1\n",
        "i=i+1\n",
        "print(\"\\n no of leap year:\",count)"
      ],
      "execution_count": 2,
      "outputs": [
        {
          "output_type": "stream",
          "text": [
            "enter the current year:2021\n",
            "enter the last year:2040\n",
            "2024 2028 2032 2036 2040 \n",
            " no of leap year: 5\n"
          ],
          "name": "stdout"
        }
      ]
    },
    {
      "cell_type": "code",
      "metadata": {
        "colab": {
          "base_uri": "https://localhost:8080/"
        },
        "id": "na8pXGbkgc1r",
        "outputId": "7cd3bdb9-8683-4b4d-cf7c-9ec13b0a01f9"
      },
      "source": [
        "#3a\n",
        "list=[1,-3,0,8,2,3,-4]\n",
        "list=[x for x in list if x>0]\n",
        "print(list)"
      ],
      "execution_count": 6,
      "outputs": [
        {
          "output_type": "stream",
          "text": [
            "[1, 8, 2, 3]\n"
          ],
          "name": "stdout"
        }
      ]
    },
    {
      "cell_type": "code",
      "metadata": {
        "colab": {
          "base_uri": "https://localhost:8080/"
        },
        "id": "_L6_dChDgfxp",
        "outputId": "c919e4f0-1fc4-49a3-b178-7a48fdf22d35"
      },
      "source": [
        "#3b\n",
        "N=int(input(\"enter limit:\"))\n",
        "list=[]\n",
        "for x in range(N):\n",
        "  X=int(input(\"enter nos\"))\n",
        "  list.append(X)\n",
        "print(list)\n",
        "square=[X**2 for X in list]\n",
        "print(square)"
      ],
      "execution_count": 8,
      "outputs": [
        {
          "output_type": "stream",
          "text": [
            "enter limit:5\n",
            "enter nos2\n",
            "enter nos3\n",
            "enter nos4\n",
            "enter nos6\n",
            "enter nos5\n",
            "[2, 3, 4, 6, 5]\n",
            "[4, 9, 16, 36, 25]\n"
          ],
          "name": "stdout"
        }
      ]
    },
    {
      "cell_type": "code",
      "metadata": {
        "colab": {
          "base_uri": "https://localhost:8080/"
        },
        "id": "YVO7jBW2gzb3",
        "outputId": "ab4579b6-9693-4254-812b-a32cd1c4b1e7"
      },
      "source": [
        "#3c\n",
        "word=\"chair\"\n",
        "vowels=\"aeiou\"\n",
        "list=[x for x in word if x in vowels]\n",
        "print(list)"
      ],
      "execution_count": 9,
      "outputs": [
        {
          "output_type": "stream",
          "text": [
            "['a', 'i']\n"
          ],
          "name": "stdout"
        }
      ]
    },
    {
      "cell_type": "code",
      "metadata": {
        "colab": {
          "base_uri": "https://localhost:8080/"
        },
        "id": "pR4C1Spng7Vw",
        "outputId": "7f7244ae-175f-413f-c7c3-70c2637e430c"
      },
      "source": [
        "#3d\n",
        "word=\"chair\"\n",
        "list=[ord(x) for x in word]\n",
        "print(list)"
      ],
      "execution_count": 10,
      "outputs": [
        {
          "output_type": "stream",
          "text": [
            "[99, 104, 97, 105, 114]\n"
          ],
          "name": "stdout"
        }
      ]
    },
    {
      "cell_type": "code",
      "metadata": {
        "colab": {
          "base_uri": "https://localhost:8080/"
        },
        "id": "qykRx5IjhEXN",
        "outputId": "f318c1bd-4c86-4880-f57d-17eae8e70959"
      },
      "source": [
        "#4_count occurrence of each word in aline of text\n",
        "text=\"java language is a simple and powerfull programming language \"\n",
        "for i in text.strip().split():\n",
        "    print(\"Number of occurence of word \",\"\\\"\",i,\"\\\"\",\" is :\",text.strip().split().count(i))"
      ],
      "execution_count": 11,
      "outputs": [
        {
          "output_type": "stream",
          "text": [
            "Number of occurence of word  \" java \"  is : 1\n",
            "Number of occurence of word  \" language \"  is : 2\n",
            "Number of occurence of word  \" is \"  is : 1\n",
            "Number of occurence of word  \" a \"  is : 1\n",
            "Number of occurence of word  \" simple \"  is : 1\n",
            "Number of occurence of word  \" and \"  is : 1\n",
            "Number of occurence of word  \" powerfull \"  is : 1\n",
            "Number of occurence of word  \" programming \"  is : 1\n",
            "Number of occurence of word  \" language \"  is : 2\n"
          ],
          "name": "stdout"
        }
      ]
    },
    {
      "cell_type": "code",
      "metadata": {
        "colab": {
          "base_uri": "https://localhost:8080/"
        },
        "id": "HDoeQGsKh50X",
        "outputId": "4becbad1-7851-44e5-b40b-a4374af3f913"
      },
      "source": [
        "#5_prompt the user for alist of integers.for all values greater than 100 store 'over' insted \n",
        "list=[]\n",
        "for i in range(6):\n",
        "  num=int(input(\"enter the number:\"))\n",
        "  if num<100:\n",
        "   list.append(num)\n",
        "  else:\n",
        "   list.append(\"over\")\n",
        "print(list)"
      ],
      "execution_count": 12,
      "outputs": [
        {
          "output_type": "stream",
          "text": [
            "enter the number:54\n",
            "enter the number:61\n",
            "enter the number:24\n",
            "enter the number:84\n",
            "enter the number:57\n",
            "enter the number:104\n",
            "[54, 61, 24, 84, 57, 'over']\n"
          ],
          "name": "stdout"
        }
      ]
    },
    {
      "cell_type": "code",
      "metadata": {
        "colab": {
          "base_uri": "https://localhost:8080/"
        },
        "id": "_L9kysq3iIoV",
        "outputId": "7a8574a0-a452-4a59-8bc8-74f425277a5f"
      },
      "source": [
        "#6_store a list of first names.count the occurrence of 'a' within a list\n",
        "l=input(\"enter the names:\")\n",
        "word=l.split()\n",
        "print(word)\n",
        "count=0\n",
        "for i in l:\n",
        "  if i==\"a\":\n",
        "   count+=1\n",
        "print(\"the occurrence of a is:\",count)"
      ],
      "execution_count": 13,
      "outputs": [
        {
          "output_type": "stream",
          "text": [
            "enter the names:ashitha\n",
            "['ashitha']\n",
            "the occurrence of a is: 2\n"
          ],
          "name": "stdout"
        }
      ]
    },
    {
      "cell_type": "code",
      "metadata": {
        "colab": {
          "base_uri": "https://localhost:8080/"
        },
        "id": "_ic-ndCVim-j",
        "outputId": "ee016e5c-6829-45b5-8247-fe18785b7384"
      },
      "source": [
        "#7\n",
        "l1=[30,40,20,10,50]\n",
        "l2=[30,40,60,15,32]\n",
        "print(len(l1))\n",
        "print(len(l2))\n",
        "total=sum(l1)\n",
        "print(\"sum of list1\",total)\n",
        "total=sum(l2)\n",
        "print(\"sum of list2\",total)\n",
        "l3=[]\n",
        "for n in l1:\n",
        "  if n in l2:\n",
        "    if n not in l3:\n",
        "      l3.append(n)\n",
        "print(l3)"
      ],
      "execution_count": 14,
      "outputs": [
        {
          "output_type": "stream",
          "text": [
            "5\n",
            "5\n",
            "sum of list1 150\n",
            "sum of list2 177\n",
            "[30, 40]\n"
          ],
          "name": "stdout"
        }
      ]
    },
    {
      "cell_type": "code",
      "metadata": {
        "colab": {
          "base_uri": "https://localhost:8080/"
        },
        "id": "4136Pbrpi0_N",
        "outputId": "7e48b2b0-2b31-40fd-f8cb-6e553bb2057a"
      },
      "source": [
        "#8_get a string from an input string where all occurrence of first character replaced with $,except first character\n",
        "a=input(\"enter a string:\")\n",
        "b=a[0]\n",
        "s=a[1:len(a)]\n",
        "for i in range(len(s)):\n",
        "  if s[i]==a[0]:\n",
        "     b=b+\"$\"\n",
        "  else:\n",
        "    b=b+s[i]\n",
        "print(b)"
      ],
      "execution_count": 15,
      "outputs": [
        {
          "output_type": "stream",
          "text": [
            "enter a string:animal\n",
            "anim$l\n"
          ],
          "name": "stdout"
        }
      ]
    },
    {
      "cell_type": "code",
      "metadata": {
        "colab": {
          "base_uri": "https://localhost:8080/"
        },
        "id": "7k8SnkFWjIN6",
        "outputId": "f62450d4-db64-4c72-9134-8fff4bf75a7a"
      },
      "source": [
        "#9_create a string from given string where first and last characters exchanged\n",
        "str=input(\"enter a string:\")\n",
        "newstr=str[-1:]+str[1:-1]+str[:1]\n",
        "print(newstr)"
      ],
      "execution_count": 16,
      "outputs": [
        {
          "output_type": "stream",
          "text": [
            "enter a string:beautiful\n",
            "leautifub\n"
          ],
          "name": "stdout"
        }
      ]
    },
    {
      "cell_type": "code",
      "metadata": {
        "colab": {
          "base_uri": "https://localhost:8080/"
        },
        "id": "c-hEhWLUjSLO",
        "outputId": "3c50c896-7716-41f9-828f-d1585d1e3aa0"
      },
      "source": [
        "#10 accept radius from user and find area of circle\n",
        "r=float(input(\"enter the radious:\"))\n",
        "pi=3.14\n",
        "area=pi*r**2\n",
        "print(\"area of the circle is\",area)"
      ],
      "execution_count": 20,
      "outputs": [
        {
          "output_type": "stream",
          "text": [
            "enter the radious:5\n",
            "area of the circle is 78.5\n"
          ],
          "name": "stdout"
        }
      ]
    },
    {
      "cell_type": "code",
      "metadata": {
        "colab": {
          "base_uri": "https://localhost:8080/"
        },
        "id": "yDweAnyAlRV5",
        "outputId": "b6c9d30d-0b0d-41ff-9bc6-538d8543714a"
      },
      "source": [
        "#11_find biggest of three numbers\n",
        "x=int(input(\"enter first num:\"))\n",
        "y=int(input(\"enter secnd num:\"))\n",
        "z=int(input(\"enter third num:\"))\n",
        "if x>y and x>z:\n",
        "  largest=x\n",
        "elif y>x and y>z:\n",
        "  largest=y\n",
        "else:\n",
        "  largest=z\n",
        "print(\" largest number is\",largest)"
      ],
      "execution_count": 21,
      "outputs": [
        {
          "output_type": "stream",
          "text": [
            "enter first num:15\n",
            "enter secnd num:78\n",
            "enter third num:94\n",
            " largest number is 94\n"
          ],
          "name": "stdout"
        }
      ]
    },
    {
      "cell_type": "code",
      "metadata": {
        "colab": {
          "base_uri": "https://localhost:8080/"
        },
        "id": "lvt3vvKQlecB",
        "outputId": "27403a8c-023f-4ea5-9aec-f07fe8e1997c"
      },
      "source": [
        "#12_accept a file name from user and find area of circle\n",
        "file=input(\"enter the file name with extension:\")\n",
        "print(\"extension of the file is:\",file.split(\".\")[-1])"
      ],
      "execution_count": 23,
      "outputs": [
        {
          "output_type": "stream",
          "text": [
            "enter the file name with extension:a.jpg\n",
            "extension of the file is: jpg\n"
          ],
          "name": "stdout"
        }
      ]
    },
    {
      "cell_type": "code",
      "metadata": {
        "colab": {
          "base_uri": "https://localhost:8080/"
        },
        "id": "n3CR6esJmka7",
        "outputId": "890efca8-a84d-4d44-908b-7e58953f9066"
      },
      "source": [
        "#13_ create a list of colors from comma separated color names entered by user .display first and last colors\n",
        "n=int(input(\"enter the number of colors:\"))\n",
        "list=[]\n",
        "for i in range(n):\n",
        "  a=input(\"enter the color:\")\n",
        "  list.append(a)\n",
        "print(list)\n",
        "print(\"the first color is:\",list[0])\n",
        "print(\"the last color is:\",list[-1])"
      ],
      "execution_count": 24,
      "outputs": [
        {
          "output_type": "stream",
          "text": [
            "enter the number of colors:3\n",
            "enter the color:orange\n",
            "enter the color:blue\n",
            "enter the color:violet\n",
            "['orange', 'blue', 'violet']\n",
            "the first color is: orange\n",
            "the last color is: violet\n"
          ],
          "name": "stdout"
        }
      ]
    },
    {
      "cell_type": "code",
      "metadata": {
        "colab": {
          "base_uri": "https://localhost:8080/"
        },
        "id": "HVB9XjtYm7i-",
        "outputId": "791d8ed9-17e9-482a-dcb0-ebe17a14a027"
      },
      "source": [
        "#14_accept an integer n and compute n+nn+nnn\n",
        "a=int(input(\"enter a number\"))\n",
        "a1=a*11\n",
        "a2=a*111\n",
        "print(a+a1+a2)"
      ],
      "execution_count": 25,
      "outputs": [
        {
          "output_type": "stream",
          "text": [
            "enter a number5\n",
            "615\n"
          ],
          "name": "stdout"
        }
      ]
    },
    {
      "cell_type": "code",
      "metadata": {
        "colab": {
          "base_uri": "https://localhost:8080/"
        },
        "id": "FvHQ4pmhnDLD",
        "outputId": "613d8982-08c8-4b7d-881c-823a28226da0"
      },
      "source": [
        "#15_print out all colors from color list 1 not contained in color list2\n",
        "col1=['red','blue','yellow','violet']\n",
        "col2=['green','blue']\n",
        "print(col1)\n",
        "print(col2)\n",
        "for i in range(len(col1)):\n",
        "  if col1[i] not in col2:\n",
        "     print(\"the color is:\",col1[i])"
      ],
      "execution_count": 26,
      "outputs": [
        {
          "output_type": "stream",
          "text": [
            "['red', 'blue', 'yellow', 'violet']\n",
            "['green', 'blue']\n",
            "the color is: red\n",
            "the color is: yellow\n",
            "the color is: violet\n"
          ],
          "name": "stdout"
        }
      ]
    },
    {
      "cell_type": "code",
      "metadata": {
        "colab": {
          "base_uri": "https://localhost:8080/"
        },
        "id": "Ja4VH5_enJ5P",
        "outputId": "da05a752-a094-48f6-aa2e-ded0f35df065"
      },
      "source": [
        "#16_create a single string seperated with space from two strings by swapping the character at position 1\n",
        "a=input(\"enter first string:\")\n",
        "b=input(\"enter second string:\")\n",
        "s1=b[0]+a[1:]\n",
        "s2=a[0]+b[1:]\n",
        "print(\"the swapped string is:\",s1+'',s2)"
      ],
      "execution_count": 27,
      "outputs": [
        {
          "output_type": "stream",
          "text": [
            "enter first string:bird\n",
            "enter second string:parrot\n",
            "the swapped string is: pird barrot\n"
          ],
          "name": "stdout"
        }
      ]
    },
    {
      "cell_type": "code",
      "metadata": {
        "colab": {
          "base_uri": "https://localhost:8080/"
        },
        "id": "KAV7kqtrne43",
        "outputId": "98262954-a434-4e03-90a2-d77a76ea1fbb"
      },
      "source": [
        "#18_merge two dictionaries\n",
        "dict1={\"s\":5,\"f\":6}\n",
        "dict2={\"g\":7,\"h\":2}\n",
        "dict1.update(dict2)\n",
        "print(dict1)"
      ],
      "execution_count": 28,
      "outputs": [
        {
          "output_type": "stream",
          "text": [
            "{'s': 5, 'f': 6, 'g': 7, 'h': 2}\n"
          ],
          "name": "stdout"
        }
      ]
    },
    {
      "cell_type": "code",
      "metadata": {
        "colab": {
          "base_uri": "https://localhost:8080/"
        },
        "id": "4V1D1f2Onmbl",
        "outputId": "f3c30611-232a-46c6-f56c-26dfe81eaa85"
      },
      "source": [
        "#19_find gcd of two numbers\n",
        "a=int(input(\"enter the first number:\"))\n",
        "b=int(input(\"enter the second number:\"))\n",
        "while b!=0:\n",
        " gcd=b\n",
        " b=a%b\n",
        " a=gcd\n",
        "print(gcd)"
      ],
      "execution_count": 29,
      "outputs": [
        {
          "output_type": "stream",
          "text": [
            "enter the first number:5\n",
            "enter the second number:4\n",
            "1\n"
          ],
          "name": "stdout"
        }
      ]
    },
    {
      "cell_type": "code",
      "metadata": {
        "colab": {
          "base_uri": "https://localhost:8080/"
        },
        "id": "n9pA4SAYntmB",
        "outputId": "faa9e90f-5bca-4406-c4cc-87603e7154e3"
      },
      "source": [
        "#20_from a list of integers,create a list removing even numbers\n",
        "list=[1,-4,0,-3,6]\n",
        "newlist=[x for x in list if x%2!=0]\n",
        "print(newlist)"
      ],
      "execution_count": 30,
      "outputs": [
        {
          "output_type": "stream",
          "text": [
            "[1, -3]\n"
          ],
          "name": "stdout"
        }
      ]
    }
  ]
}